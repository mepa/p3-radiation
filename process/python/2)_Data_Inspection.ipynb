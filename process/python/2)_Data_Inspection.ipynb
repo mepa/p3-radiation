{
 "metadata": {
  "name": "",
  "signature": "sha256:ad9b876a3ff71f46548a76e8170177a829d9d99cbe3c05e3859d3f869fb523ff"
 },
 "nbformat": 3,
 "nbformat_minor": 0,
 "worksheets": [
  {
   "cells": [
    {
     "cell_type": "markdown",
     "metadata": {},
     "source": [
      "# Starting Out and Loading Data\n",
      "\n",
      "We're going to get started by loading up yt.  This next command brings all of the libraries into memory and sets up our environment."
     ]
    },
    {
     "cell_type": "code",
     "collapsed": false,
     "input": [
      "import yt"
     ],
     "language": "python",
     "metadata": {},
     "outputs": [],
     "prompt_number": 1
    },
    {
     "cell_type": "markdown",
     "metadata": {},
     "source": [
      "Now that we've loaded yt, we can load up some data.  Let's load the `IsolatedGalaxy` dataset."
     ]
    },
    {
     "cell_type": "code",
     "collapsed": false,
     "input": [
      "#ds = yt.load(\"IsolatedGalaxy/galaxy0030/galaxy0030\")\n",
      "indir = \"/scratch/cerberus/d4/mepa/data/RadCosmo_res128/stampede/\"\n",
      "infile = \"radCosmoLW_hdf5_chk_0381\"\n",
      "ds = yt.load(indir + infile)"
     ],
     "language": "python",
     "metadata": {},
     "outputs": [],
     "prompt_number": 3
    },
    {
     "cell_type": "markdown",
     "metadata": {},
     "source": [
      "## Fields and Facts\n",
      "\n",
      "When you call the `load` function, yt tries to do very little -- this is designed to be a fast operation, just setting up some information about the simulation.  Now, the first time you access the \"index\" it will read and load the mesh and then determine where data is placed in the physical domain and on disk.  Once it knows that, yt can tell you some statistics about the simulation:"
     ]
    },
    {
     "cell_type": "code",
     "collapsed": false,
     "input": [
      "ds.print_stats()"
     ],
     "language": "python",
     "metadata": {},
     "outputs": [
      {
       "output_type": "stream",
       "stream": "stdout",
       "text": [
        "level\t# grids\t       # cells\t     # cells^3\n",
        "----------------------------------------------\n",
        "  0\t     1\t           512\t             8\n",
        "  1\t     8\t          4096\t            16\n",
        "  2\t    64\t         32768\t            32\n",
        "  3\t   512\t        262144\t            64\n",
        "  4\t  4096\t       2097152\t           128\n",
        "  5\t 15936\t       8159232\t           202\n",
        "  6\t 16408\t       8400896\t           204\n",
        "  7\t 13696\t       7012352\t           192\n",
        "  8\t 10344\t       5296128\t           175\n",
        "  9\t  4832\t       2473984\t           136\n",
        " 10\t   552\t        282624\t            66\n",
        " 11\t   248\t        126976\t            51\n",
        " 12\t   216\t        110592\t            48\n",
        " 13\t   216\t        110592\t            48\n",
        " 14\t   264\t        135168\t            52\n",
        " 15\t   248\t        126976\t            51\n",
        " 16\t   136\t         69632\t            42\n",
        "----------------------------------------------\n",
        "   \t 67777\t      34701824\n",
        "\n",
        "\n",
        "t = 1.10086083e+16 = 1.10086083e+16 s = 3.48841748e+08 years\n",
        "\n",
        "Smallest Cell:\n",
        "\tWidth: 1.388e-07 Mpc\n",
        "\tWidth: 1.388e-01 pc\n",
        "\tWidth: 2.862e+04 AU\n",
        "\tWidth: 4.282e+17 cm\n"
       ]
      }
     ],
     "prompt_number": 4
    },
    {
     "cell_type": "markdown",
     "metadata": {},
     "source": [
      "yt can also tell you the fields it found on disk:"
     ]
    },
    {
     "cell_type": "code",
     "collapsed": false,
     "input": [
      "ds.field_list"
     ],
     "language": "python",
     "metadata": {},
     "outputs": [
      {
       "metadata": {},
       "output_type": "pyout",
       "prompt_number": 5,
       "text": [
        "[('flash', 'h2io'),\n",
        " ('flash', 'heat'),\n",
        " ('flash', 'heio'),\n",
        " ('flash', 'hepi'),\n",
        " ('flash', 'hion'),\n",
        " ('flash', 'aux '),\n",
        " ('flash', 'c011'),\n",
        " ('flash', 'c012'),\n",
        " ('flash', 'c013'),\n",
        " ('flash', 'c014'),\n",
        " ('flash', 'c015'),\n",
        " ('flash', 'c016'),\n",
        " ('flash', 'c041'),\n",
        " ('flash', 'c042'),\n",
        " ('flash', 'c043'),\n",
        " ('flash', 'c044'),\n",
        " ('flash', 'c045'),\n",
        " ('flash', 'c046'),\n",
        " ('flash', 'c071'),\n",
        " ('flash', 'c072'),\n",
        " ('flash', 'c073'),\n",
        " ('flash', 'c074'),\n",
        " ('flash', 'c075'),\n",
        " ('flash', 'c076'),\n",
        " ('flash', 'c081'),\n",
        " ('flash', 'c082'),\n",
        " ('flash', 'c083'),\n",
        " ('flash', 'c084'),\n",
        " ('flash', 'c085'),\n",
        " ('flash', 'c086'),\n",
        " ('flash', 'chem'),\n",
        " ('flash', 'dens'),\n",
        " ('flash', 'eint'),\n",
        " ('flash', 'ener'),\n",
        " ('flash', 'flh2'),\n",
        " ('flash', 'flx1'),\n",
        " ('flash', 'flx2'),\n",
        " ('flash', 'flx3'),\n",
        " ('flash', 'gamc'),\n",
        " ('flash', 'game'),\n",
        " ('flash', 'gpol'),\n",
        " ('flash', 'gpot'),\n",
        " ('flash', 'grac'),\n",
        " ('flash', 'icor'),\n",
        " ('flash', 'imgm'),\n",
        " ('flash', 'imgp'),\n",
        " ('flash', 'isls'),\n",
        " ('flash', 'pde '),\n",
        " ('flash', 'pden'),\n",
        " ('flash', 'pres'),\n",
        " ('flash', 'sim1'),\n",
        " ('flash', 'temp'),\n",
        " ('flash', 'velx'),\n",
        " ('flash', 'vely'),\n",
        " ('flash', 'velz'),\n",
        " ('flash', 'deut'),\n",
        " ('flash', 'dplu'),\n",
        " ('flash', 'elec'),\n",
        " ('flash', 'h   '),\n",
        " ('flash', 'hd  '),\n",
        " ('flash', 'hel '),\n",
        " ('flash', 'hep '),\n",
        " ('flash', 'hepp'),\n",
        " ('flash', 'hmin'),\n",
        " ('flash', 'hplu'),\n",
        " ('flash', 'htwo'),\n",
        " ('flash', 'htwp'),\n",
        " ('io', 'particle_accx'),\n",
        " ('io', 'particle_accy'),\n",
        " ('io', 'particle_accz'),\n",
        " ('io', 'particle_blk'),\n",
        " ('io', 'particle_gpot'),\n",
        " ('io', 'particle_grid_dens'),\n",
        " ('io', 'particle_mass'),\n",
        " ('io', 'particle_mass_save'),\n",
        " ('io', 'particle_oacx'),\n",
        " ('io', 'particle_oacy'),\n",
        " ('io', 'particle_oacz'),\n",
        " ('io', 'particle_posx'),\n",
        " ('io', 'particle_posy'),\n",
        " ('io', 'particle_posz'),\n",
        " ('io', 'particle_proc'),\n",
        " ('io', 'particle_smoothtag'),\n",
        " ('io', 'particle_tag'),\n",
        " ('io', 'particle_velx'),\n",
        " ('io', 'particle_vely'),\n",
        " ('io', 'particle_velz'),\n",
        " ('all', 'particle_grid_dens'),\n",
        " ('all', 'particle_smoothtag'),\n",
        " ('all', 'particle_oacy'),\n",
        " ('all', 'particle_oacx'),\n",
        " ('all', 'particle_oacz'),\n",
        " ('all', 'particle_posz'),\n",
        " ('all', 'particle_accy'),\n",
        " ('all', 'particle_posx'),\n",
        " ('all', 'particle_posy'),\n",
        " ('all', 'particle_gpot'),\n",
        " ('all', 'particle_accx'),\n",
        " ('all', 'particle_accz'),\n",
        " ('all', 'particle_tag'),\n",
        " ('all', 'particle_velz'),\n",
        " ('all', 'particle_blk'),\n",
        " ('all', 'particle_velx'),\n",
        " ('all', 'particle_proc'),\n",
        " ('all', 'particle_mass_save'),\n",
        " ('all', 'particle_mass'),\n",
        " ('all', 'particle_vely')]"
       ]
      }
     ],
     "prompt_number": 5
    },
    {
     "cell_type": "markdown",
     "metadata": {},
     "source": [
      "And, all of the fields it thinks it knows how to generate:"
     ]
    },
    {
     "cell_type": "code",
     "collapsed": false,
     "input": [
      "ds.derived_field_list"
     ],
     "language": "python",
     "metadata": {},
     "outputs": [
      {
       "metadata": {},
       "output_type": "pyout",
       "prompt_number": 6,
       "text": [
        "[('all', 'mesh_id'),\n",
        " ('all', 'particle_accx'),\n",
        " ('all', 'particle_accy'),\n",
        " ('all', 'particle_accz'),\n",
        " ('all', 'particle_angular_momentum'),\n",
        " ('all', 'particle_angular_momentum_magnitude'),\n",
        " ('all', 'particle_angular_momentum_x'),\n",
        " ('all', 'particle_angular_momentum_y'),\n",
        " ('all', 'particle_angular_momentum_z'),\n",
        " ('all', 'particle_blk'),\n",
        " ('all', 'particle_gpot'),\n",
        " ('all', 'particle_grid_dens'),\n",
        " ('all', 'particle_index'),\n",
        " ('all', 'particle_mass'),\n",
        " ('all', 'particle_mass_save'),\n",
        " ('all', 'particle_oacx'),\n",
        " ('all', 'particle_oacy'),\n",
        " ('all', 'particle_oacz'),\n",
        " ('all', 'particle_ones'),\n",
        " ('all', 'particle_position'),\n",
        " ('all', 'particle_position_x'),\n",
        " ('all', 'particle_position_y'),\n",
        " ('all', 'particle_position_z'),\n",
        " ('all', 'particle_posx'),\n",
        " ('all', 'particle_posy'),\n",
        " ('all', 'particle_posz'),\n",
        " ('all', 'particle_proc'),\n",
        " ('all', 'particle_radial_velocity'),\n",
        " ('all', 'particle_radius'),\n",
        " ('all', 'particle_smoothtag'),\n",
        " ('all', 'particle_specific_angular_momentum'),\n",
        " ('all', 'particle_specific_angular_momentum_magnitude'),\n",
        " ('all', 'particle_specific_angular_momentum_x'),\n",
        " ('all', 'particle_specific_angular_momentum_y'),\n",
        " ('all', 'particle_specific_angular_momentum_z'),\n",
        " ('all', 'particle_spherical_position_phi'),\n",
        " ('all', 'particle_spherical_position_radius'),\n",
        " ('all', 'particle_spherical_position_theta'),\n",
        " ('all', 'particle_spherical_velocity_phi'),\n",
        " ('all', 'particle_spherical_velocity_radius'),\n",
        " ('all', 'particle_spherical_velocity_theta'),\n",
        " ('all', 'particle_tag'),\n",
        " ('all', 'particle_velocity'),\n",
        " ('all', 'particle_velocity_magnitude'),\n",
        " ('all', 'particle_velocity_x'),\n",
        " ('all', 'particle_velocity_y'),\n",
        " ('all', 'particle_velocity_z'),\n",
        " ('all', 'particle_velx'),\n",
        " ('all', 'particle_vely'),\n",
        " ('all', 'particle_velz'),\n",
        " ('deposit', 'all_cic'),\n",
        " ('deposit', 'all_cic_velocity_x'),\n",
        " ('deposit', 'all_cic_velocity_y'),\n",
        " ('deposit', 'all_cic_velocity_z'),\n",
        " ('deposit', 'all_count'),\n",
        " ('deposit', 'all_density'),\n",
        " ('deposit', 'all_mass'),\n",
        " ('deposit', 'all_nn_velocity_x'),\n",
        " ('deposit', 'all_nn_velocity_y'),\n",
        " ('deposit', 'all_nn_velocity_z'),\n",
        " ('deposit', 'io_cic'),\n",
        " ('deposit', 'io_cic_velocity_x'),\n",
        " ('deposit', 'io_cic_velocity_y'),\n",
        " ('deposit', 'io_cic_velocity_z'),\n",
        " ('deposit', 'io_count'),\n",
        " ('deposit', 'io_density'),\n",
        " ('deposit', 'io_mass'),\n",
        " ('deposit', 'io_nn_velocity_x'),\n",
        " ('deposit', 'io_nn_velocity_y'),\n",
        " ('deposit', 'io_nn_velocity_z'),\n",
        " ('flash', 'aux '),\n",
        " ('flash', 'c011'),\n",
        " ('flash', 'c012'),\n",
        " ('flash', 'c013'),\n",
        " ('flash', 'c014'),\n",
        " ('flash', 'c015'),\n",
        " ('flash', 'c016'),\n",
        " ('flash', 'c041'),\n",
        " ('flash', 'c042'),\n",
        " ('flash', 'c043'),\n",
        " ('flash', 'c044'),\n",
        " ('flash', 'c045'),\n",
        " ('flash', 'c046'),\n",
        " ('flash', 'c071'),\n",
        " ('flash', 'c072'),\n",
        " ('flash', 'c073'),\n",
        " ('flash', 'c074'),\n",
        " ('flash', 'c075'),\n",
        " ('flash', 'c076'),\n",
        " ('flash', 'c081'),\n",
        " ('flash', 'c082'),\n",
        " ('flash', 'c083'),\n",
        " ('flash', 'c084'),\n",
        " ('flash', 'c085'),\n",
        " ('flash', 'c086'),\n",
        " ('flash', 'chem'),\n",
        " ('flash', 'dens'),\n",
        " ('flash', 'deut'),\n",
        " ('flash', 'dplu'),\n",
        " ('flash', 'eint'),\n",
        " ('flash', 'elec'),\n",
        " ('flash', 'ener'),\n",
        " ('flash', 'flh2'),\n",
        " ('flash', 'flx1'),\n",
        " ('flash', 'flx2'),\n",
        " ('flash', 'flx3'),\n",
        " ('flash', 'gamc'),\n",
        " ('flash', 'game'),\n",
        " ('flash', 'gpol'),\n",
        " ('flash', 'gpot'),\n",
        " ('flash', 'grac'),\n",
        " ('flash', 'h   '),\n",
        " ('flash', 'h2io'),\n",
        " ('flash', 'hd  '),\n",
        " ('flash', 'heat'),\n",
        " ('flash', 'heio'),\n",
        " ('flash', 'hel '),\n",
        " ('flash', 'hep '),\n",
        " ('flash', 'hepi'),\n",
        " ('flash', 'hepp'),\n",
        " ('flash', 'hion'),\n",
        " ('flash', 'hmin'),\n",
        " ('flash', 'hplu'),\n",
        " ('flash', 'htwo'),\n",
        " ('flash', 'htwp'),\n",
        " ('flash', 'icor'),\n",
        " ('flash', 'imgm'),\n",
        " ('flash', 'imgp'),\n",
        " ('flash', 'isls'),\n",
        " ('flash', 'pde '),\n",
        " ('flash', 'pden'),\n",
        " ('flash', 'pres'),\n",
        " ('flash', 'sim1'),\n",
        " ('flash', 'temp'),\n",
        " ('flash', 'velx'),\n",
        " ('flash', 'vely'),\n",
        " ('flash', 'velz'),\n",
        " ('gas', 'angular_momentum_magnitude'),\n",
        " ('gas', 'angular_momentum_x'),\n",
        " ('gas', 'angular_momentum_y'),\n",
        " ('gas', 'angular_momentum_z'),\n",
        " ('gas', 'averaged_density'),\n",
        " ('gas', 'baroclinic_vorticity_magnitude'),\n",
        " ('gas', 'baroclinic_vorticity_x'),\n",
        " ('gas', 'baroclinic_vorticity_y'),\n",
        " ('gas', 'baroclinic_vorticity_z'),\n",
        " ('gas', 'baryon_overdensity'),\n",
        " ('gas', 'cell_mass'),\n",
        " ('gas', 'courant_time_step'),\n",
        " ('gas', 'cutting_plane_velocity_x'),\n",
        " ('gas', 'cutting_plane_velocity_y'),\n",
        " ('gas', 'cutting_plane_velocity_z'),\n",
        " ('gas', 'cylindrical_radial_velocity'),\n",
        " ('gas', 'cylindrical_radial_velocity_absolute'),\n",
        " ('gas', 'cylindrical_tangential_velocity'),\n",
        " ('gas', 'cylindrical_tangential_velocity_absolute'),\n",
        " ('gas', 'density'),\n",
        " ('gas', 'density_gradient_magnitude'),\n",
        " ('gas', 'density_gradient_x'),\n",
        " ('gas', 'density_gradient_y'),\n",
        " ('gas', 'density_gradient_z'),\n",
        " ('gas', 'dynamical_time'),\n",
        " ('gas', 'entropy'),\n",
        " ('gas', 'gravitational_potential'),\n",
        " ('gas', 'kT'),\n",
        " ('gas', 'kinetic_energy'),\n",
        " ('gas', 'mach_number'),\n",
        " ('gas', 'pressure'),\n",
        " ('gas', 'pressure_gradient_magnitude'),\n",
        " ('gas', 'pressure_gradient_x'),\n",
        " ('gas', 'pressure_gradient_y'),\n",
        " ('gas', 'pressure_gradient_z'),\n",
        " ('gas', 'radial_mach_number'),\n",
        " ('gas', 'radial_velocity'),\n",
        " ('gas', 'radial_velocity_absolute'),\n",
        " ('gas', 'shear'),\n",
        " ('gas', 'shear_criterion'),\n",
        " ('gas', 'shear_mach'),\n",
        " ('gas', 'sound_speed'),\n",
        " ('gas', 'specific_angular_momentum_magnitude'),\n",
        " ('gas', 'specific_angular_momentum_x'),\n",
        " ('gas', 'specific_angular_momentum_y'),\n",
        " ('gas', 'specific_angular_momentum_z'),\n",
        " ('gas', 'sz_kinetic'),\n",
        " ('gas', 'szy'),\n",
        " ('gas', 'tangential_over_velocity_magnitude'),\n",
        " ('gas', 'tangential_velocity'),\n",
        " ('gas', 'temperature'),\n",
        " ('gas', 'thermal_energy'),\n",
        " ('gas', 'total_energy'),\n",
        " ('gas', 'velocity_divergence'),\n",
        " ('gas', 'velocity_divergence_absolute'),\n",
        " ('gas', 'velocity_magnitude'),\n",
        " ('gas', 'velocity_x'),\n",
        " ('gas', 'velocity_y'),\n",
        " ('gas', 'velocity_z'),\n",
        " ('gas', 'vorticity_growth_magnitude'),\n",
        " ('gas', 'vorticity_growth_magnitude_absolute'),\n",
        " ('gas', 'vorticity_growth_timescale'),\n",
        " ('gas', 'vorticity_growth_x'),\n",
        " ('gas', 'vorticity_growth_y'),\n",
        " ('gas', 'vorticity_growth_z'),\n",
        " ('gas', 'vorticity_magnitude'),\n",
        " ('gas', 'vorticity_squared'),\n",
        " ('gas', 'vorticity_stretching_magnitude'),\n",
        " ('gas', 'vorticity_stretching_x'),\n",
        " ('gas', 'vorticity_stretching_y'),\n",
        " ('gas', 'vorticity_stretching_z'),\n",
        " ('gas', 'vorticity_x'),\n",
        " ('gas', 'vorticity_y'),\n",
        " ('gas', 'vorticity_z'),\n",
        " ('gas', 'xray_emissivity'),\n",
        " ('index', 'cell_volume'),\n",
        " ('index', 'cylindrical_r'),\n",
        " ('index', 'cylindrical_theta'),\n",
        " ('index', 'cylindrical_z'),\n",
        " ('index', 'disk_angle'),\n",
        " ('index', 'dx'),\n",
        " ('index', 'dy'),\n",
        " ('index', 'dz'),\n",
        " ('index', 'grid_indices'),\n",
        " ('index', 'grid_level'),\n",
        " ('index', 'height'),\n",
        " ('index', 'ones'),\n",
        " ('index', 'ones_over_dx'),\n",
        " ('index', 'radius'),\n",
        " ('index', 'spherical_phi'),\n",
        " ('index', 'spherical_r'),\n",
        " ('index', 'spherical_theta'),\n",
        " ('index', 'x'),\n",
        " ('index', 'y'),\n",
        " ('index', 'z'),\n",
        " ('index', 'zeros'),\n",
        " ('io', 'mesh_id'),\n",
        " ('io', 'particle_accx'),\n",
        " ('io', 'particle_accy'),\n",
        " ('io', 'particle_accz'),\n",
        " ('io', 'particle_angular_momentum'),\n",
        " ('io', 'particle_angular_momentum_magnitude'),\n",
        " ('io', 'particle_angular_momentum_x'),\n",
        " ('io', 'particle_angular_momentum_y'),\n",
        " ('io', 'particle_angular_momentum_z'),\n",
        " ('io', 'particle_blk'),\n",
        " ('io', 'particle_gpot'),\n",
        " ('io', 'particle_grid_dens'),\n",
        " ('io', 'particle_index'),\n",
        " ('io', 'particle_mass'),\n",
        " ('io', 'particle_mass_save'),\n",
        " ('io', 'particle_oacx'),\n",
        " ('io', 'particle_oacy'),\n",
        " ('io', 'particle_oacz'),\n",
        " ('io', 'particle_ones'),\n",
        " ('io', 'particle_position'),\n",
        " ('io', 'particle_position_x'),\n",
        " ('io', 'particle_position_y'),\n",
        " ('io', 'particle_position_z'),\n",
        " ('io', 'particle_posx'),\n",
        " ('io', 'particle_posy'),\n",
        " ('io', 'particle_posz'),\n",
        " ('io', 'particle_proc'),\n",
        " ('io', 'particle_radial_velocity'),\n",
        " ('io', 'particle_radius'),\n",
        " ('io', 'particle_smoothtag'),\n",
        " ('io', 'particle_specific_angular_momentum'),\n",
        " ('io', 'particle_specific_angular_momentum_magnitude'),\n",
        " ('io', 'particle_specific_angular_momentum_x'),\n",
        " ('io', 'particle_specific_angular_momentum_y'),\n",
        " ('io', 'particle_specific_angular_momentum_z'),\n",
        " ('io', 'particle_spherical_position_phi'),\n",
        " ('io', 'particle_spherical_position_radius'),\n",
        " ('io', 'particle_spherical_position_theta'),\n",
        " ('io', 'particle_spherical_velocity_phi'),\n",
        " ('io', 'particle_spherical_velocity_radius'),\n",
        " ('io', 'particle_spherical_velocity_theta'),\n",
        " ('io', 'particle_tag'),\n",
        " ('io', 'particle_velocity'),\n",
        " ('io', 'particle_velocity_magnitude'),\n",
        " ('io', 'particle_velocity_x'),\n",
        " ('io', 'particle_velocity_y'),\n",
        " ('io', 'particle_velocity_z'),\n",
        " ('io', 'particle_velx'),\n",
        " ('io', 'particle_vely'),\n",
        " ('io', 'particle_velz')]"
       ]
      }
     ],
     "prompt_number": 6
    },
    {
     "cell_type": "markdown",
     "metadata": {},
     "source": [
      "yt can also transparently generate fields.  However, we encourage you to examine exactly what yt is doing when it generates those fields.  To see, you can ask for the source of a given field."
     ]
    },
    {
     "cell_type": "code",
     "collapsed": false,
     "input": [
      "print ds.field_info[\"gas\", \"vorticity_x\"].get_source()"
     ],
     "language": "python",
     "metadata": {},
     "outputs": [
      {
       "output_type": "stream",
       "stream": "stdout",
       "text": [
        "    def _vorticity_x(field, data):\n",
        "        f  = (data[ftype, \"velocity_z\"][sl_center,sl_right,sl_center] -\n",
        "              data[ftype, \"velocity_z\"][sl_center,sl_left,sl_center]) \\\n",
        "              / (div_fac*just_one(data[\"index\", \"dy\"]).in_cgs())\n",
        "        f -= (data[ftype, \"velocity_y\"][sl_center,sl_center,sl_right] -\n",
        "              data[ftype, \"velocity_y\"][sl_center,sl_center,sl_left]) \\\n",
        "              / (div_fac*just_one(data[\"index\", \"dz\"].in_cgs()))\n",
        "        new_field = data.ds.arr(np.zeros_like(data[ftype, \"velocity_z\"],\n",
        "                                              dtype=np.float64),\n",
        "                                f.units)\n",
        "        new_field[sl_center, sl_center, sl_center] = f\n",
        "        return new_field\n",
        "\n"
       ]
      }
     ],
     "prompt_number": 7
    },
    {
     "cell_type": "raw",
     "metadata": {},
     "source": []
    },
    {
     "cell_type": "markdown",
     "metadata": {},
     "source": [
      "yt stores information about the domain of the simulation:"
     ]
    },
    {
     "cell_type": "code",
     "collapsed": false,
     "input": [
      "print ds.hubble_constant\n",
      "print ds.domain_width.in_units('Mpc')\n",
      "print ds.domain_width.in_units('Mpccm')\n",
      "print ds.domain_width.in_units('Mpccm/h')"
     ],
     "language": "python",
     "metadata": {},
     "outputs": [
      {
       "output_type": "stream",
       "stream": "stdout",
       "text": [
        "0.702963946675\n",
        "[ 0.07275175  0.07275175  0.07275175] Mpc\n",
        "[ 1.  1.  1.] Mpccm\n",
        "[ 0.70296395  0.70296395  0.70296395] Mpccm/h\n"
       ]
      }
     ],
     "prompt_number": 26
    },
    {
     "cell_type": "markdown",
     "metadata": {},
     "source": [
      "yt can also convert this into various units:"
     ]
    },
    {
     "cell_type": "code",
     "collapsed": false,
     "input": [
      "print ds.domain_width.in_units(\"kpc\")\n",
      "print ds.domain_width.in_units(\"au\")\n",
      "print ds.domain_width.in_units(\"mile\")\n",
      "print ds.current_redshift\n",
      "print ds.length_unit\n",
      "print ds.length_unit.in_units('code_length')\n",
      "print ds.time_unit\n",
      "print ds.mass_unit\n",
      "print ds.velocity_unit\n",
      "print 1 / (1 + ds.current_redshift)"
     ],
     "language": "python",
     "metadata": {},
     "outputs": [
      {
       "output_type": "stream",
       "stream": "stdout",
       "text": [
        "[ 72.7517548  72.7517548  72.7517548] kpc\n",
        "[  1.50061266e+10   1.50061266e+10   1.50061266e+10] au\n",
        "[  1.39491008e+18   1.39491008e+18   1.39491008e+18] mile\n",
        "12.7453729154\n",
        "0.0727517548018 cm\n",
        "1.0 code_length\n",
        "1.0 s\n",
        "1.0 g\n",
        "1.0 cm/s\n",
        "0.0727517548018\n"
       ]
      }
     ],
     "prompt_number": 14
    },
    {
     "cell_type": "markdown",
     "metadata": {},
     "source": [
      "# Mesh Structure\n",
      "\n",
      "If you're using a simulation type that has grids (for instance, here we're using an Enzo simulation) you can examine the structure of the mesh.  For the most part, you probably won't have to use this unless you're debugging a simulation or examining in detail what is going on."
     ]
    },
    {
     "cell_type": "code",
     "collapsed": false,
     "input": [
      "print ds.index.grid_left_edge"
     ],
     "language": "python",
     "metadata": {},
     "outputs": [
      {
       "output_type": "stream",
       "stream": "stdout",
       "text": [
        "[[  0.00000000e+00   0.00000000e+00   0.00000000e+00]\n",
        " [  0.00000000e+00   0.00000000e+00   0.00000000e+00]\n",
        " [  0.00000000e+00   0.00000000e+00   0.00000000e+00]\n",
        " ..., \n",
        " [  2.98925016e+24   2.79639531e+24   2.98925016e+24]\n",
        " [  2.69996788e+24   2.89282273e+24   2.89282273e+24]\n",
        " [  2.89282273e+24   2.89282273e+24   2.89282273e+24]] code_length\n"
       ]
      }
     ],
     "prompt_number": 17
    },
    {
     "cell_type": "markdown",
     "metadata": {},
     "source": [
      "But, you may have to access information about individual grid objects!  Each grid object mediates accessing data from the disk and has a number of attributes that tell you about it.  The index (`ds.index` here) has an attribute `grids` which is all of the grid objects."
     ]
    },
    {
     "cell_type": "code",
     "collapsed": false,
     "input": [
      "print ds.index.grids[1]"
     ],
     "language": "python",
     "metadata": {},
     "outputs": [
      {
       "output_type": "stream",
       "stream": "stdout",
       "text": [
        "FLASHGrid_0002 ([8 8 8])\n"
       ]
      }
     ],
     "prompt_number": 46
    },
    {
     "cell_type": "code",
     "collapsed": false,
     "input": [
      "g = ds.index.grids[5]\n",
      "print g"
     ],
     "language": "python",
     "metadata": {},
     "outputs": [
      {
       "output_type": "stream",
       "stream": "stdout",
       "text": [
        "FLASHGrid_0006 ([8 8 8])\n"
       ]
      }
     ],
     "prompt_number": 72
    },
    {
     "cell_type": "markdown",
     "metadata": {},
     "source": [
      "Grids have dimensions, extents, level, and even a list of Child grids."
     ]
    },
    {
     "cell_type": "code",
     "collapsed": false,
     "input": [
      "g.ActiveDimensions"
     ],
     "language": "python",
     "metadata": {},
     "outputs": [
      {
       "metadata": {},
       "output_type": "pyout",
       "prompt_number": 73,
       "text": [
        "array([8, 8, 8], dtype=int32)"
       ]
      }
     ],
     "prompt_number": 73
    },
    {
     "cell_type": "code",
     "collapsed": false,
     "input": [
      "g.LeftEdge, g.RightEdge\n",
      "print g.RightEdge[0].in_units('Mpc')\n",
      "print ds.domain_width.in_units('Mpc')[0] / g.RightEdge.in_units('Mpc')"
     ],
     "language": "python",
     "metadata": {},
     "outputs": [
      {
       "output_type": "stream",
       "stream": "stdout",
       "text": [
        "0.00909396934946 Mpc\n",
        "[  8.  16.  16.] dimensionless\n"
       ]
      }
     ],
     "prompt_number": 74
    },
    {
     "cell_type": "code",
     "collapsed": false,
     "input": [
      "g.Level"
     ],
     "language": "python",
     "metadata": {},
     "outputs": [
      {
       "metadata": {},
       "output_type": "pyout",
       "prompt_number": 75,
       "text": [
        "4"
       ]
      }
     ],
     "prompt_number": 75
    },
    {
     "cell_type": "code",
     "collapsed": false,
     "input": [
      "g.Children"
     ],
     "language": "python",
     "metadata": {},
     "outputs": [
      {
       "metadata": {},
       "output_type": "pyout",
       "prompt_number": 76,
       "text": [
        "[]"
       ]
      }
     ],
     "prompt_number": 76
    },
    {
     "cell_type": "markdown",
     "metadata": {},
     "source": [
      "## Advanced Grid Inspection\n",
      "\n",
      "If we want to examine grids only at a given level, we can!  Not only that, but we can load data and take a look at various fields.\n",
      "\n",
      "*This section can be skipped!*"
     ]
    },
    {
     "cell_type": "code",
     "collapsed": false,
     "input": [
      "gs = ds.index.select_grids(ds.index.max_level)"
     ],
     "language": "python",
     "metadata": {},
     "outputs": [],
     "prompt_number": 77
    },
    {
     "cell_type": "code",
     "collapsed": false,
     "input": [
      "g2 = gs[0]\n",
      "print g2\n",
      "print g2.Parent\n",
      "print g2.get_global_startindex()"
     ],
     "language": "python",
     "metadata": {},
     "outputs": [
      {
       "output_type": "stream",
       "stream": "stdout",
       "text": [
        "FLASHGrid_27891 ([8 8 8])\n",
        "FLASHGrid_27890 ([8 8 8])\n",
        "[258976 244624 279136]\n"
       ]
      }
     ],
     "prompt_number": 78
    },
    {
     "cell_type": "code",
     "collapsed": false,
     "input": [
      "print g2[\"density\"][:,:,0]"
     ],
     "language": "python",
     "metadata": {},
     "outputs": [
      {
       "output_type": "stream",
       "stream": "stdout",
       "text": [
        "[[  2.91533415e-21   3.02490122e-21   2.98183297e-21   3.04704900e-21\n",
        "    2.99832343e-21   2.84748467e-21   3.09366222e-21   3.14310671e-21]\n",
        " [  2.95441090e-21   3.05774067e-21   3.10247612e-21   3.22229370e-21\n",
        "    3.22820806e-21   3.17834303e-21   3.26007613e-21   3.30430331e-21]\n",
        " [  2.96348856e-21   3.07185879e-21   3.12860150e-21   3.25353772e-21\n",
        "    3.36421364e-21   3.29331423e-21   3.35922356e-21   3.41211614e-21]\n",
        " [  2.94812911e-21   3.03832223e-21   3.14041487e-21   3.25791478e-21\n",
        "    3.39087727e-21   3.30287291e-21   3.39645005e-21   3.43759855e-21]\n",
        " [  2.92183617e-21   3.00453674e-21   3.16203818e-21   3.27054334e-21\n",
        "    3.38488871e-21   3.27665589e-21   3.40112910e-21   3.43103836e-21]\n",
        " [  2.79631936e-21   2.89209413e-21   3.08223259e-21   3.14902340e-21\n",
        "    3.22358349e-21   3.23251629e-21   3.40234039e-21   3.43208931e-21]\n",
        " [  2.54224033e-21   2.61103683e-21   2.70915275e-21   2.79832145e-21\n",
        "    2.95806843e-21   3.11636993e-21   3.37274415e-21   3.43900246e-21]\n",
        " [  2.28956391e-21   2.30033752e-21   2.34434868e-21   2.48771817e-21\n",
        "    2.68330083e-21   2.87947698e-21   3.08028794e-21   3.25543915e-21]] g/cm**3\n"
       ]
      }
     ],
     "prompt_number": 79
    },
    {
     "cell_type": "code",
     "collapsed": false,
     "input": [
      "print (g2.Parent.child_mask == 0).sum() * 8\n",
      "print g2.ActiveDimensions.prod()"
     ],
     "language": "python",
     "metadata": {},
     "outputs": [
      {
       "output_type": "stream",
       "stream": "stdout",
       "text": [
        "4096\n",
        "512\n"
       ]
      }
     ],
     "prompt_number": 80
    },
    {
     "cell_type": "code",
     "collapsed": false,
     "input": [
      "for f in ds.field_list:\n",
      "    fv = g[f]\n",
      "    if fv.size == 0: continue\n",
      "    print f, fv.min(), fv.max()"
     ],
     "language": "python",
     "metadata": {},
     "outputs": [
      {
       "output_type": "stream",
       "stream": "stdout",
       "text": [
        "('flash', 'h2io') 1.38721763449e-10 dimensionless 1.38721874653e-10 dimensionless\n",
        "('flash', 'heat') 0.0 dimensionless 0.0 dimensionless\n",
        "('flash', 'heio') 0.0 dimensionless 0.0 dimensionless\n",
        "('flash', 'hepi')"
       ]
      },
      {
       "output_type": "stream",
       "stream": "stdout",
       "text": [
        " 0.0 dimensionless 0.0 dimensionless\n",
        "('flash', 'hion') 0.0 dimensionless 0.0 dimensionless\n",
        "('flash', 'aux ')"
       ]
      },
      {
       "output_type": "stream",
       "stream": "stdout",
       "text": [
        " 2.88196461217e-31 dimensionless 6.85776858461e-30 dimensionless\n",
        "('flash', 'c011') 2.78200350495e-08 dimensionless 1.18179280737e-07 dimensionless\n",
        "('flash', 'c012')"
       ]
      },
      {
       "output_type": "stream",
       "stream": "stdout",
       "text": [
        " 4.68496005823e-07 dimensionless 6.62673909667e-07 dimensionless\n",
        "('flash', 'c013')"
       ]
      },
      {
       "output_type": "stream",
       "stream": "stdout",
       "text": [
        " 2.52128733539e-09 dimensionless 1.38234719251e-07 dimensionless\n",
        "('flash', 'c014') 8.06960906394e-07 dimensionless 3.11563809946e-06 dimensionless\n",
        "('flash', 'c015')"
       ]
      },
      {
       "output_type": "stream",
       "stream": "stdout",
       "text": [
        " 2.16273003189e-09 dimensionless 1.18236938669e-07 dimensionless\n",
        "('flash', 'c016') 7.83139093257e-07 dimensionless 1.37673327375e-06 dimensionless\n",
        "('flash', 'c041') 1.59034827829e-22 dimensionless 2.98997877437e-21 dimensionless\n",
        "('flash', 'c042')"
       ]
      },
      {
       "output_type": "stream",
       "stream": "stdout",
       "text": [
        " 3.77821289022e-21 dimensionless 8.09417093782e-21 dimensionless\n",
        "('flash', 'c043') 1.15361463172e-23 dimensionless 4.37512606738e-21 dimensionless\n",
        "('flash', 'c044') 1.63954109629e-20 dimensionless 1.61800794647e-15 dimensionless\n",
        "('flash', 'c045')"
       ]
      },
      {
       "output_type": "stream",
       "stream": "stdout",
       "text": [
        " 8.59115792812e-24 dimensionless 3.44948374895e-21 dimensionless\n",
        "('flash', 'c046') 1.27718499101e-20 dimensionless 1.7224160745e-17 dimensionless\n",
        "('flash', 'c071') 8.89930861223e-09 dimensionless 3.78035131989e-08 dimensionless\n",
        "('flash', 'c072')"
       ]
      },
      {
       "output_type": "stream",
       "stream": "stdout",
       "text": [
        " 1.49865665797e-07 dimensionless 2.11979543647e-07 dimensionless\n",
        "('flash', 'c073') 8.06533016414e-10 dimensionless 4.42185757961e-08 dimensionless\n",
        "('flash', 'c074') 2.58133536689e-07 dimensionless 9.96608890772e-07 dimensionless\n",
        "('flash', 'c075')"
       ]
      },
      {
       "output_type": "stream",
       "stream": "stdout",
       "text": [
        " 6.91836856607e-10 dimensionless 3.78217767418e-08 dimensionless\n",
        "('flash', 'c076') 2.50513542382e-07 dimensionless 4.40391137586e-07 dimensionless\n",
        "('flash', 'c081')"
       ]
      },
      {
       "output_type": "stream",
       "stream": "stdout",
       "text": [
        " 1.50984149721e-21 dimensionless 5.93877020015e-21 dimensionless\n",
        "('flash', 'c082') 2.49205592246e-20 dimensionless 3.45469700986e-20 dimensionless\n",
        "('flash', 'c083') 1.37916114463e-22 dimensionless 6.71953213313e-21 dimensionless\n",
        "('flash', 'c084')"
       ]
      },
      {
       "output_type": "stream",
       "stream": "stdout",
       "text": [
        " 4.11069747627e-20 dimensionless 9.01920302904e-17 dimensionless\n",
        "('flash', 'c085') 1.19811004169e-22 dimensionless 5.82537393128e-21 dimensionless\n",
        "('flash', 'c086') 3.99986919771e-20 dimensionless 6.75754780062e-20 dimensionless\n",
        "('flash', 'chem')"
       ]
      },
      {
       "output_type": "stream",
       "stream": "stdout",
       "text": [
        " 5.46293849512e+13 dimensionless 1.84120121844e+14 dimensionless\n",
        "('flash', 'dens') 1.18441892121e-31 code_mass/code_length**3 1.23617147504e-30 code_mass/code_length**3\n",
        "('flash', 'eint') 30158469004.9 code_length**2/code_time**2 2.9887481207e+11 code_length**2/code_time**2\n",
        "('flash', 'ener') 5.54394210876e+11 code_length**2/code_time**2 1.24081416556e+13 code_length**2/code_time**2\n",
        "('flash', 'flh2')"
       ]
      },
      {
       "output_type": "stream",
       "stream": "stdout",
       "text": [
        " 36698879.2593 dimensionless 36698908.6384 dimensionless\n",
        "('flash', 'flx1') 0.0 dimensionless 0.0 dimensionless\n",
        "('flash', 'flx2')"
       ]
      },
      {
       "output_type": "stream",
       "stream": "stdout",
       "text": [
        " 0.0 dimensionless 0.0 dimensionless\n",
        "('flash', 'flx3') 0.0 dimensionless 0.0 dimensionless\n",
        "('flash', 'gamc') 1.66666666638 dimensionless 1.66666666664 dimensionless\n",
        "('flash', 'game')"
       ]
      },
      {
       "output_type": "stream",
       "stream": "stdout",
       "text": [
        " 1.66666666638 dimensionless 1.66666666664 dimensionless\n",
        "('flash', 'gpol') 3.18455613444e+14 code_length**2/code_time**2 3.71104825428e+14 code_length**2/code_time**2\n",
        "('flash', 'gpot')"
       ]
      },
      {
       "output_type": "stream",
       "stream": "stdout",
       "text": [
        " 3.18453243747e+14 code_length**2/code_time**2 3.71102014401e+14 code_length**2/code_time**2\n",
        "('flash', 'grac') 2.925845431e-11 dimensionless 3.14552342765e-10 dimensionless\n",
        "('flash', 'icor')"
       ]
      },
      {
       "output_type": "stream",
       "stream": "stdout",
       "text": [
        " -4.0164354508e+11 dimensionless -1.44700016241e+11 dimensionless\n",
        "('flash', 'imgm') 0.0 dimensionless 0.0 dimensionless\n",
        "('flash', 'imgp')"
       ]
      },
      {
       "output_type": "stream",
       "stream": "stdout",
       "text": [
        " 0.0 dimensionless 0.0 dimensionless\n",
        "('flash', 'isls') -2.54858194031e-35 dimensionless 4.01207730518e-36 dimensionless\n",
        "('flash', 'pde ') 2.88196461217e-31 dimensionless 6.85776858461e-30 dimensionless\n",
        "('flash', 'pden')"
       ]
      },
      {
       "output_type": "stream",
       "stream": "stdout",
       "text": [
        " 1.65702301126e-31 code_mass/code_length**3 5.8458121564e-30 code_mass/code_length**3\n",
        "('flash', 'pres') 2.79207983305e-21 code_mass/(code_length*code_time**2) 2.02298146791e-19 code_mass/(code_length*code_time**2)\n",
        "('flash', 'sim1') 0.0 dimensionless 0.0 dimensionless\n",
        "('flash', 'temp') 295.627063269 code_temperature 2929.72787913 code_temperature\n",
        "('flash', 'velx') -4589658.25045 code_length/code_time 2709644.58286 code_length/code_time\n",
        "('flash', 'vely')"
       ]
      },
      {
       "output_type": "stream",
       "stream": "stdout",
       "text": [
        " -2359532.3754 code_length/code_time 1048361.45187 code_length/code_time\n",
        "('flash', 'velz') 470463.541554 code_length/code_time 3576406.71698 code_length/code_time\n",
        "('flash', 'deut') 6.5146857622e-05 dimensionless 6.51481428694e-05 dimensionless\n",
        "('flash', 'dplu')"
       ]
      },
      {
       "output_type": "stream",
       "stream": "stdout",
       "text": [
        " 1.67070400691e-10 dimensionless 8.29087891988e-10 dimensionless\n",
        "('flash', 'elec') 8.25279465579e-08 dimensionless 9.72026718304e-08 dimensionless\n",
        "('flash', 'h   ') 0.757453838069 dimensionless 0.757480797255 dimensionless\n",
        "('flash', 'hd  ')"
       ]
      },
      {
       "output_type": "stream",
       "stream": "stdout",
       "text": [
        " 1.49623474805e-10 dimensionless 1.58927181809e-09 dimensionless\n",
        "('flash', 'hel ') 0.242302428693 dimensionless 0.242302441206 dimensionless\n",
        "('flash', 'hep ') 3.61570927902e-14 dimensionless 4.2073175589e-14 dimensionless\n",
        "('flash', 'hepp')"
       ]
      },
      {
       "output_type": "stream",
       "stream": "stdout",
       "text": [
        " 1.20048178363e-15 dimensionless 4.50205745039e-15 dimensionless\n",
        "('flash', 'hmin') 8.80736381363e-13 dimensionless 1.43855503078e-12 dimensionless\n",
        "('flash', 'hplu')"
       ]
      },
      {
       "output_type": "stream",
       "stream": "stdout",
       "text": [
        " 0.000151533816001 dimensionless 0.000178478848169 dimensionless\n",
        "('flash', 'htwo') 3.00884592056e-15 dimensionless 3.65586511808e-14 dimensionless\n",
        "('flash', 'htwp')"
       ]
      },
      {
       "output_type": "stream",
       "stream": "stdout",
       "text": [
        " 5.82958273162e-18 dimensionless 5.61999348613e-17 dimensionless\n",
        "('io', 'particle_accx') -3.6371372471e-10 dimensionless 2.13454948287e-10 dimensionless\n",
        "('io', 'particle_accy') -2.019394303e-10 dimensionless 7.00048700259e-11 dimensionless\n",
        "('io', 'particle_accz') 3.66932824175e-11 dimensionless 3.15966836896e-10 dimensionless\n",
        "('io', 'particle_blk') 6.0 dimensionless 6.0 dimensionless\n",
        "('io', 'particle_gpot') 3.15975153073e+14 dimensionless 3.71416364006e+14 dimensionless\n",
        "('io', 'particle_grid_dens') 1.14719088856e-31 dimensionless 1.26363655743e-30 dimensionless\n",
        "('io', 'particle_mass') 2.98277391254e+37 g 2.98277391254e+37 g\n",
        "('io', 'particle_mass_save') 2.98277391254e+37 dimensionless 2.98277391254e+37 dimensionless\n",
        "('io', 'particle_oacx') -3.6371372471e-10 dimensionless 2.13454948287e-10 dimensionless\n",
        "('io', 'particle_oacy') -2.019394303e-10 dimensionless 7.00048700259e-11 dimensionless\n",
        "('io', 'particle_oacz') 3.66932824175e-11 dimensionless 3.15966836896e-10 dimensionless\n",
        "('io', 'particle_posx')"
       ]
      },
      {
       "output_type": "stream",
       "stream": "stdout",
       "text": [
        " 1.940302282e+23 code_length 3.84479060759e+23 code_length\n",
        "('io', 'particle_posy') 2.43440075796e+20 code_length 1.92446298985e+23 code_length\n",
        "('io', 'particle_posz') 1.77973491276e+20 code_length 1.92592699748e+23 code_length\n",
        "('io', 'particle_proc') 0.0 dimensionless 0.0 dimensionless\n",
        "('io', 'particle_smoothtag') 0.0 dimensionless 0.0 dimensionless\n",
        "('io', 'particle_tag') 24.0 dimensionless 2941005.0 dimensionless\n",
        "('io', 'particle_velx') -4823068.13539 code_length/code_time 2756673.53316 code_length/code_time\n",
        "('io', 'particle_vely') -2330759.2319 code_length/code_time 727492.944313 code_length/code_time\n",
        "('io', 'particle_velz') 559279.462882 code_length/code_time 3540867.7876 code_length/code_time\n",
        "('all', 'particle_grid_dens') 1.14719088856e-31 dimensionless 1.26363655743e-30 dimensionless\n",
        "('all', 'particle_smoothtag') 0.0 dimensionless 0.0 dimensionless\n",
        "('all', 'particle_oacy') -2.019394303e-10 dimensionless 7.00048700259e-11 dimensionless\n",
        "('all', 'particle_oacx') -3.6371372471e-10 dimensionless 2.13454948287e-10 dimensionless\n",
        "('all', 'particle_oacz') 3.66932824175e-11 dimensionless 3.15966836896e-10 dimensionless\n",
        "('all', 'particle_posz') 1.77973491276e+20 code_length 1.92592699748e+23 code_length\n",
        "('all', 'particle_accy') -2.019394303e-10 dimensionless 7.00048700259e-11 dimensionless\n",
        "('all', 'particle_posx') 1.940302282e+23 code_length 3.84479060759e+23 code_length\n",
        "('all', 'particle_posy') 2.43440075796e+20 code_length 1.92446298985e+23 code_length\n",
        "('all', 'particle_gpot') 3.15975153073e+14 dimensionless 3.71416364006e+14 dimensionless\n",
        "('all', 'particle_accx') -3.6371372471e-10 dimensionless 2.13454948287e-10 dimensionless\n",
        "('all', 'particle_accz') 3.66932824175e-11 dimensionless 3.15966836896e-10 dimensionless\n",
        "('all', 'particle_tag') 24.0 dimensionless 2941005.0 dimensionless\n",
        "('all', 'particle_velz')"
       ]
      },
      {
       "output_type": "stream",
       "stream": "stdout",
       "text": [
        " 40688.5623493 cm/s 257604.345069 cm/s\n",
        "('all', 'particle_blk') 6.0 dimensionless 6.0 dimensionless\n",
        "('all', 'particle_velx') -350886.670379 cm/s 200552.836953 cm/s\n",
        "('all', 'particle_proc') 0.0 dimensionless 0.0 dimensionless\n",
        "('all', 'particle_mass_save') 2.98277391254e+37 dimensionless 2.98277391254e+37 dimensionless\n",
        "('all', 'particle_mass') 2.98277391254e+37 g 2.98277391254e+37 g\n",
        "('all', 'particle_vely') -169566.824141 cm/s 52926.3883048 cm/s\n"
       ]
      }
     ],
     "prompt_number": 81
    },
    {
     "cell_type": "markdown",
     "metadata": {},
     "source": [
      "# Examining Data in Regions\n",
      "\n",
      "yt provides data object selectors.  In subsequent notebooks we'll examine these in more detail, but we can select a sphere of data and perform a number of operations on it.  yt makes it easy to operate on fluid fields in an object in *bulk*, but you can also examine individual field values.\n",
      "\n",
      "This creates a sphere selector positioned at the most dense point in the simulation that has a radius of 10 kpc."
     ]
    },
    {
     "cell_type": "code",
     "collapsed": false,
     "input": [
      "sp = ds.sphere(\"max\", (10, 'kpc'))"
     ],
     "language": "python",
     "metadata": {},
     "outputs": [],
     "prompt_number": 82
    },
    {
     "cell_type": "code",
     "collapsed": false,
     "input": [
      "print sp"
     ],
     "language": "python",
     "metadata": {},
     "outputs": [
      {
       "output_type": "stream",
       "stream": "stdout",
       "text": [
        "YTSphere (radCosmoLW_hdf5_chk_0381): center=[  1.52430841e+24   1.43992264e+24   1.64291814e+24] code_length, radius=10.0 kpc\n"
       ]
      }
     ],
     "prompt_number": 83
    },
    {
     "cell_type": "markdown",
     "metadata": {},
     "source": [
      "We can calculate a bunch of bulk quantities.  Here's that list, but there's a list in the docs, too!"
     ]
    },
    {
     "cell_type": "code",
     "collapsed": false,
     "input": [
      "print sp.quantities.keys()"
     ],
     "language": "python",
     "metadata": {},
     "outputs": [
      {
       "output_type": "stream",
       "stream": "stdout",
       "text": [
        "['SpinParameter', 'MinLocation', 'WeightedVariance', 'TotalMass', 'AngularMomentumVector', 'WeightedAverageQuantity', 'TotalQuantity', 'CenterOfMass', 'BulkVelocity', 'Extrema', 'MaxLocation']\n"
       ]
      }
     ],
     "prompt_number": 84
    },
    {
     "cell_type": "markdown",
     "metadata": {},
     "source": [
      "Let's look at the total mass.  This is how you call a given quantity.  yt calls these \"Derived Quantities\".  We'll talk about a few in a later notebook."
     ]
    },
    {
     "cell_type": "code",
     "collapsed": false,
     "input": [
      "print sp.quantities.total_mass()"
     ],
     "language": "python",
     "metadata": {},
     "outputs": [
      {
       "output_type": "stream",
       "stream": "stdout",
       "text": [
        "[3.53070110362e+41 g, 1.78440068368e+42 g]\n"
       ]
      }
     ],
     "prompt_number": 87
    },
    {
     "cell_type": "code",
     "collapsed": false,
     "input": [],
     "language": "python",
     "metadata": {},
     "outputs": []
    }
   ],
   "metadata": {}
  }
 ]
}