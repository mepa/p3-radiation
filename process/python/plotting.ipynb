{
 "metadata": {
  "name": "",
  "signature": "sha256:1f70044b8c7cee0ecde505a2537b610bad493d0e98914bf8d5ed07b16d29da26"
 },
 "nbformat": 3,
 "nbformat_minor": 0,
 "worksheets": [
  {
   "cells": [
    {
     "cell_type": "code",
     "collapsed": false,
     "input": [
      "%matplotlib inline\n",
      "import yt\n",
      "import numpy as np\n",
      "from yt import derived_field\n",
      "from matplotlib import pylab\n",
      "from yt.units import g, kpc"
     ],
     "language": "python",
     "metadata": {},
     "outputs": [],
     "prompt_number": 47
    },
    {
     "cell_type": "code",
     "collapsed": false,
     "input": [
      "@derived_field(name = \"number density\", units = \"1/cm**3\")\n",
      "def _numdens(field, data):\n",
      "    mass_proton = 1.6726e-30 * g\n",
      "    return data[\"density\"] / mass_proton"
     ],
     "language": "python",
     "metadata": {},
     "outputs": [],
     "prompt_number": 2
    },
    {
     "cell_type": "code",
     "collapsed": false,
     "input": [
      "indir = \"/scratch/cerberus/d4/mepa/data/RadCosmo_res128/stampede/\"\n",
      "infile = \"radCosmoLW_hdf5_chk_0381\"\n",
      "ds = yt.load(indir + infile)\n",
      "dd = ds.all_data()"
     ],
     "language": "python",
     "metadata": {},
     "outputs": [],
     "prompt_number": 3
    },
    {
     "cell_type": "code",
     "collapsed": false,
     "input": [],
     "language": "python",
     "metadata": {},
     "outputs": []
    },
    {
     "cell_type": "code",
     "collapsed": false,
     "input": [
      "print ds.current_redshift\n",
      "ds.print_key_parameters()\n",
      "#print sorted(ds.field_list)"
     ],
     "language": "python",
     "metadata": {},
     "outputs": [
      {
       "output_type": "stream",
       "stream": "stdout",
       "text": [
        "12.7453729154\n"
       ]
      }
     ],
     "prompt_number": 4
    },
    {
     "cell_type": "code",
     "collapsed": false,
     "input": [
      "sp = ds.sphere(\"c\", (100.0, \"kpc\"))"
     ],
     "language": "python",
     "metadata": {},
     "outputs": [],
     "prompt_number": 49
    },
    {
     "cell_type": "code",
     "collapsed": false,
     "input": [
      "#plot = yt.ProfilePlot(dd,\"number density\", [\"h   \",\"hplu\"])\n",
      "prof1 = yt.create_profile(sp, 'radius', ('flash', 'h   '),\n",
      "                          units = {'radius': 'kpc'},\n",
      "                          extrema = {'radius':} (('0.1','kpc'),('100.0','kpc)))\n",
      "prof1 = yt.create_profile(sp, 'radius', ('flash', 'h   '),\n",
      "                          units = {'radius': 'kpc'},\n",
      "                          extrema = {'radius':} (('0.1','kpc'),('100.0','kpc)))\n",
      "                                                               \n",
      "                                                                \n",
      "prof = yt.Profile1D(sp, \"radius\", 32, 0.1*kpc, 100*kpc, True, weight_field=None)\n",
      "prof.add_fields([\"h   \",\"hplu\"])\n",
      "pylab.semilogx(np.array(prof.x), np.array(prof[\"h   \"]), '-x')\n",
      "pylab.xlabel(\"Radius\")\n",
      "pylab.ylabel(\"Fractional Abundance\")"
     ],
     "language": "python",
     "metadata": {},
     "outputs": [
      {
       "metadata": {},
       "output_type": "pyout",
       "prompt_number": 58,
       "text": [
        "<matplotlib.text.Text at 0x2aaaabd73390>"
       ]
      },
      {
       "metadata": {},
       "output_type": "display_data",
       "png": "[encoded data removed]",
       "text": [
        "<matplotlib.figure.Figure at 0x2aaac99e8a10>"
       ]
      }
     ],
     "prompt_number": 58
    },
    {
     "cell_type": "code",
     "collapsed": false,
     "input": [
      "profile = yt.create_profile(sp, [\"radius\"], fields=[(\"flash\", \"h   \"),\n",
      "                                                    (\"flash\", \"hplu\")])\n",
      "print profile.x\n",
      "print profile[\"flash\", \"h   \"]"
     ],
     "language": "python",
     "metadata": {},
     "outputs": [
      {
       "output_type": "stream",
       "stream": "stdout",
       "text": [
        "[  1.00926755e+20   1.13682239e+20   1.28049806e+20   1.44233198e+20\n",
        "   1.62461905e+20   1.82994421e+20   2.06121910e+20   2.32172333e+20\n",
        "   2.61515102e+20   2.94566315e+20   3.31794658e+20   3.73728052e+20\n",
        "   4.20961138e+20   4.74163710e+20   5.34090214e+20   6.01590443e+20\n",
        "   6.77621592e+20   7.63261830e+20   8.59725586e+20   9.68380777e+20\n",
        "   1.09076820e+21   1.22862338e+21   1.38390119e+21   1.55880357e+21\n",
        "   1.75581073e+21   1.97771636e+21   2.22766722e+21   2.50920776e+21\n",
        "   2.82633041e+21   3.18353214e+21   3.58587830e+21   4.03907441e+21\n",
        "   4.54954707e+21   5.12453508e+21   5.77219212e+21   6.50170238e+21\n",
        "   7.32341076e+21   8.24896957e+21   9.29150381e+21   1.04657973e+22\n",
        "   1.17885021e+22   1.32783751e+22   1.49565436e+22   1.68468050e+22\n",
        "   1.89759644e+22   2.13742146e+22   2.40755641e+22   2.71183199e+22\n",
        "   3.05456301e+22   3.44060959e+22   3.87544612e+22   4.36523885e+22\n",
        "   4.91693333e+22   5.53835293e+22   6.23830976e+22   7.02672963e+22\n",
        "   7.91479282e+22   8.91509261e+22   1.00418139e+23   1.13109342e+23\n",
        "   1.27404504e+23   1.43506341e+23   1.61643185e+23   1.82072228e+23] cm\n",
        "[ 0.7574802   0.          0.          0.          0.          0.7574801   0.\n",
        "  0.75747998  0.          0.75748     0.75747994  0.75748011  0.75747989\n",
        "  0.75748006  0.75747985  0.75748002  0.75748006  0.75748011  0.7574801\n",
        "  0.75748012  0.75748011  0.75748006  0.75747997  0.75747993  0.75747988\n",
        "  0.75747993  0.75748018  0.75748066  0.75748148  0.75748263  0.75748413\n",
        "  0.75748504  0.75748888  0.75749326  0.7574952   0.75750348  0.7574942\n",
        "  0.75749033  0.75748864  0.75745666  0.7574789   0.7574848   0.75749336\n",
        "  0.75748828  0.75748608  0.75748393  0.75748099  0.75747878  0.75747695\n",
        "  0.75747567  0.75747526  0.75747564  0.75747516  0.75747538  0.75747417\n",
        "  0.75747323  0.75747288  0.75747276  0.75747279  0.75747214  0.75747178\n",
        "  0.75747119  0.75747076  0.7574676 ] dimensionless\n"
       ]
      }
     ],
     "prompt_number": 68
    },
    {
     "cell_type": "code",
     "collapsed": false,
     "input": [
      "labels = []\n",
      "labels.append(\"h   \")\n",
      "labels.append(\"hplu\")\n",
      "plot_specs = []\n",
      "plot_specs.append(dict(linewidth=2, alpha=0.7))\n",
      "plot_specs.append(dict(linewidth=2, alpha=0.7))"
     ],
     "language": "python",
     "metadata": {},
     "outputs": [],
     "prompt_number": 66
    },
    {
     "cell_type": "code",
     "collapsed": false,
     "input": [
      "plot = yt.ProfilePlot(sp, \"radius\", [(\"flash\", \"h   \"),\n",
      "                                     (\"flash\", \"hplu\")])\n",
      "#plot = yt.ProfilePlot.from_profiles(profiles, labels=labels)"
     ],
     "language": "python",
     "metadata": {},
     "outputs": [],
     "prompt_number": 70
    },
    {
     "cell_type": "code",
     "collapsed": false,
     "input": [
      "plot = yt.ProfilePlot(sp, \"radius\", [(\"gas\", \"number_density\")])"
     ],
     "language": "python",
     "metadata": {},
     "outputs": [
      {
       "output_type": "stream",
       "stream": "stderr",
       "text": [
        "ERROR: An unexpected error occurred while tokenizing input\n",
        "The following traceback may be corrupted or invalid\n",
        "The error message is: ('EOF in multi-line string', (2, 4))\n",
        "\n"
       ]
      },
      {
       "ename": "YTFieldNotFound",
       "evalue": "Could not find field '('gas', 'number_density')' in radCosmoLW_hdf5_chk_0381.",
       "output_type": "pyerr",
       "traceback": [
        "\u001b[1;31m---------------------------------------------------------------------------\u001b[0m\n\u001b[1;31mYTFieldNotFound\u001b[0m                           Traceback (most recent call last)",
        "\u001b[1;32m<ipython-input-74-c67797250096>\u001b[0m in \u001b[0;36m<module>\u001b[1;34m()\u001b[0m\n\u001b[1;32m----> 1\u001b[1;33m \u001b[0mplot\u001b[0m \u001b[1;33m=\u001b[0m \u001b[0myt\u001b[0m\u001b[1;33m.\u001b[0m\u001b[0mProfilePlot\u001b[0m\u001b[1;33m(\u001b[0m\u001b[0msp\u001b[0m\u001b[1;33m,\u001b[0m \u001b[1;34m\"radius\"\u001b[0m\u001b[1;33m,\u001b[0m \u001b[1;33m[\u001b[0m\u001b[1;33m(\u001b[0m\u001b[1;34m\"gas\"\u001b[0m\u001b[1;33m,\u001b[0m \u001b[1;34m\"number_density\"\u001b[0m\u001b[1;33m)\u001b[0m\u001b[1;33m]\u001b[0m\u001b[1;33m)\u001b[0m\u001b[1;33m\u001b[0m\u001b[0m\n\u001b[0m",
        "\u001b[1;32m/data1/r900-3/mepa/yt-x86_64/src/yt-hg/yt/visualization/profile_plotter.pyc\u001b[0m in \u001b[0;36m__init__\u001b[1;34m(self, data_source, x_field, y_fields, weight_field, n_bins, accumulation, fractional, label, plot_spec)\u001b[0m\n\u001b[0;32m    205\u001b[0m     def __init__(self, data_source, x_field, y_fields,\n\u001b[0;32m    206\u001b[0m                  \u001b[0mweight_field\u001b[0m\u001b[1;33m=\u001b[0m\u001b[1;34m\"cell_mass\"\u001b[0m\u001b[1;33m,\u001b[0m \u001b[0mn_bins\u001b[0m\u001b[1;33m=\u001b[0m\u001b[1;36m64\u001b[0m\u001b[1;33m,\u001b[0m\u001b[1;33m\u001b[0m\u001b[0m\n\u001b[1;32m--> 207\u001b[1;33m                  \u001b[0maccumulation\u001b[0m\u001b[1;33m=\u001b[0m\u001b[0mFalse\u001b[0m\u001b[1;33m,\u001b[0m \u001b[0mfractional\u001b[0m\u001b[1;33m=\u001b[0m\u001b[0mFalse\u001b[0m\u001b[1;33m,\u001b[0m\u001b[1;33m\u001b[0m\u001b[0m\n\u001b[0m\u001b[0;32m    208\u001b[0m                  \u001b[0mlabel\u001b[0m\u001b[1;33m=\u001b[0m\u001b[0mNone\u001b[0m\u001b[1;33m,\u001b[0m \u001b[0mplot_spec\u001b[0m\u001b[1;33m=\u001b[0m\u001b[0mNone\u001b[0m\u001b[1;33m,\u001b[0m\u001b[1;33m\u001b[0m\u001b[0m\n\u001b[0;32m    209\u001b[0m                  x_log=None, y_log=None):\n",
        "\u001b[1;32m/data1/r900-3/mepa/yt-x86_64/src/yt-hg/yt/data_objects/profiles.pyc\u001b[0m in \u001b[0;36mcreate_profile\u001b[1;34m(data_source, bin_fields, fields, n_bins, extrema, logs, units, weight_field, accumulation, fractional)\u001b[0m\n\u001b[0;32m   1305\u001b[0m     \u001b[1;33m>>\u001b[0m\u001b[1;33m>\u001b[0m \u001b[1;32mprint\u001b[0m \u001b[0mprofile\u001b[0m\u001b[1;33m.\u001b[0m\u001b[0mx\u001b[0m\u001b[1;33m\u001b[0m\u001b[0m\n\u001b[0;32m   1306\u001b[0m     \u001b[1;33m>>\u001b[0m\u001b[1;33m>\u001b[0m \u001b[1;32mprint\u001b[0m \u001b[0mprofile\u001b[0m\u001b[1;33m[\u001b[0m\u001b[1;34m\"gas\"\u001b[0m\u001b[1;33m,\u001b[0m \u001b[1;34m\"temperature\"\u001b[0m\u001b[1;33m]\u001b[0m\u001b[1;33m\u001b[0m\u001b[0m\n\u001b[1;32m-> 1307\u001b[1;33m \u001b[1;33m\u001b[0m\u001b[0m\n\u001b[0m\u001b[0;32m   1308\u001b[0m     \"\"\"\n\u001b[0;32m   1309\u001b[0m     \u001b[0mbin_fields\u001b[0m \u001b[1;33m=\u001b[0m \u001b[0mdata_source\u001b[0m\u001b[1;33m.\u001b[0m\u001b[0m_determine_fields\u001b[0m\u001b[1;33m(\u001b[0m\u001b[0mbin_fields\u001b[0m\u001b[1;33m)\u001b[0m\u001b[1;33m\u001b[0m\u001b[0m\n",
        "\u001b[1;32m/data1/r900-3/mepa/yt-x86_64/src/yt-hg/yt/data_objects/data_containers.pyc\u001b[0m in \u001b[0;36m_determine_fields\u001b[1;34m(self, fields)\u001b[0m\n\u001b[0;32m    484\u001b[0m         \u001b[1;32mfor\u001b[0m \u001b[0mfield\u001b[0m \u001b[1;32min\u001b[0m \u001b[0mfields\u001b[0m\u001b[1;33m:\u001b[0m\u001b[1;33m\u001b[0m\u001b[0m\n\u001b[0;32m    485\u001b[0m             \u001b[1;32mif\u001b[0m \u001b[0mfield\u001b[0m \u001b[1;32min\u001b[0m \u001b[0mself\u001b[0m\u001b[1;33m.\u001b[0m\u001b[0m_container_fields\u001b[0m\u001b[1;33m:\u001b[0m\u001b[1;33m\u001b[0m\u001b[0m\n\u001b[1;32m--> 486\u001b[1;33m                 \u001b[0mexplicit_fields\u001b[0m\u001b[1;33m.\u001b[0m\u001b[0mappend\u001b[0m\u001b[1;33m(\u001b[0m\u001b[0mfield\u001b[0m\u001b[1;33m)\u001b[0m\u001b[1;33m\u001b[0m\u001b[0m\n\u001b[0m\u001b[0;32m    487\u001b[0m                 \u001b[1;32mcontinue\u001b[0m\u001b[1;33m\u001b[0m\u001b[0m\n\u001b[0;32m    488\u001b[0m             \u001b[1;32mif\u001b[0m \u001b[0misinstance\u001b[0m\u001b[1;33m(\u001b[0m\u001b[0mfield\u001b[0m\u001b[1;33m,\u001b[0m \u001b[0mtypes\u001b[0m\u001b[1;33m.\u001b[0m\u001b[0mTupleType\u001b[0m\u001b[1;33m)\u001b[0m\u001b[1;33m:\u001b[0m\u001b[1;33m\u001b[0m\u001b[0m\n",
        "\u001b[1;32m/data1/r900-3/mepa/yt-x86_64/src/yt-hg/yt/data_objects/static_output.pyc\u001b[0m in \u001b[0;36m_get_field_info\u001b[1;34m(self, ftype, fname)\u001b[0m\n\u001b[0;32m    480\u001b[0m                      \u001b[1;33m+\u001b[0m \u001b[0mlist\u001b[0m\u001b[1;33m(\u001b[0m\u001b[0mself\u001b[0m\u001b[1;33m.\u001b[0m\u001b[0mparticle_types\u001b[0m\u001b[1;33m)\u001b[0m\u001b[1;33m\u001b[0m\u001b[0m\n\u001b[0;32m    481\u001b[0m             \u001b[1;32mfor\u001b[0m \u001b[0mftype\u001b[0m \u001b[1;32min\u001b[0m \u001b[0mto_guess\u001b[0m\u001b[1;33m:\u001b[0m\u001b[1;33m\u001b[0m\u001b[0m\n\u001b[1;32m--> 482\u001b[1;33m                 \u001b[1;32mif\u001b[0m \u001b[1;33m(\u001b[0m\u001b[0mftype\u001b[0m\u001b[1;33m,\u001b[0m \u001b[0mfname\u001b[0m\u001b[1;33m)\u001b[0m \u001b[1;32min\u001b[0m \u001b[0mself\u001b[0m\u001b[1;33m.\u001b[0m\u001b[0mfield_info\u001b[0m\u001b[1;33m:\u001b[0m\u001b[1;33m\u001b[0m\u001b[0m\n\u001b[0m\u001b[0;32m    483\u001b[0m                     \u001b[0mself\u001b[0m\u001b[1;33m.\u001b[0m\u001b[0m_last_freq\u001b[0m \u001b[1;33m=\u001b[0m \u001b[1;33m(\u001b[0m\u001b[0mftype\u001b[0m\u001b[1;33m,\u001b[0m \u001b[0mfname\u001b[0m\u001b[1;33m)\u001b[0m\u001b[1;33m\u001b[0m\u001b[0m\n\u001b[0;32m    484\u001b[0m                     \u001b[0mself\u001b[0m\u001b[1;33m.\u001b[0m\u001b[0m_last_finfo\u001b[0m \u001b[1;33m=\u001b[0m \u001b[0mself\u001b[0m\u001b[1;33m.\u001b[0m\u001b[0mfield_info\u001b[0m\u001b[1;33m[\u001b[0m\u001b[1;33m(\u001b[0m\u001b[0mftype\u001b[0m\u001b[1;33m,\u001b[0m \u001b[0mfname\u001b[0m\u001b[1;33m)\u001b[0m\u001b[1;33m]\u001b[0m\u001b[1;33m\u001b[0m\u001b[0m\n",
        "\u001b[1;31mYTFieldNotFound\u001b[0m: Could not find field '('gas', 'number_density')' in radCosmoLW_hdf5_chk_0381."
       ]
      }
     ],
     "prompt_number": 74
    },
    {
     "cell_type": "code",
     "collapsed": false,
     "input": [
      "plot.set_unit('radius','kpc')\n",
      "plot.show()\n"
     ],
     "language": "python",
     "metadata": {},
     "outputs": [
      {
       "html": [
        "<img src=\"data:image/png;base64,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\"><br><img src=\"data:image/png;base64,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\"><br>"
       ],
       "metadata": {},
       "output_type": "display_data",
       "text": [
        "<yt.visualization.profile_plotter.ProfilePlot at 0x2aaad04ec310>"
       ]
      }
     ],
     "prompt_number": 71
    },
    {
     "cell_type": "code",
     "collapsed": false,
     "input": [],
     "language": "python",
     "metadata": {},
     "outputs": []
    }
   ],
   "metadata": {}
  }
 ]
}