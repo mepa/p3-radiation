{
 "metadata": {
  "name": "",
  "signature": "sha256:a356eeaa118e0071a43a28c34e7aaf3d14863ab855dfdb737c84c533db9baab0"
 },
 "nbformat": 3,
 "nbformat_minor": 0,
 "worksheets": [
  {
   "cells": [
    {
     "cell_type": "markdown",
     "metadata": {},
     "source": [
      "# Welcome to the yt quickstart!\n",
      "\n",
      "In this brief tutorial, we'll go over how to load up data, analyze things, inspect your data, and make some visualizations.\n",
      "\n",
      "Our documentation page can provide information on a variety of the commands that are used here, both in narrative documentation as well as recipes for specific functionality in our cookbook.  The documentation exists at http://yt-project.org/doc/.  If you encounter problems, look for help here: http://yt-project.org/doc/help/index.html.\n",
      "\n",
      "## Acquiring the datasets for this tutorial\n",
      "\n",
      "If you are executing these tutorials interactively, you need some sample datasets on which to run the code.  You can download these datasets at http://yt-project.org/data/.  The datasets necessary for each lesson are noted next to the corresponding tutorial.\n",
      "\n",
      "## What's Next?\n",
      "\n",
      "The Notebooks are meant to be explored in this order:\n",
      "\n",
      "1. Introduction\n",
      "2. Data Inspection (IsolatedGalaxy dataset)\n",
      "3. Simple Visualization (enzo_tiny_cosmology & Enzo_64 datasets)\n",
      "4. Data Objects and Time Series (IsolatedGalaxy dataset)\n",
      "5. Derived Fields and Profiles (IsolatedGalaxy dataset)\n",
      "6. Volume Rendering (IsolatedGalaxy dataset)"
     ]
    },
    {
     "cell_type": "markdown",
     "metadata": {},
     "source": [
      "The following code will download the data needed for this tutorial automatically using `curl`. It may take some time so please wait when the kernel is busy. You will need to set `download_datasets` to True before using it."
     ]
    },
    {
     "cell_type": "code",
     "collapsed": false,
     "input": [
      "download_datasets = True\n",
      "if download_datasets:\n",
      "    !curl -sSO http://yt-project.org/data/enzo_tiny_cosmology.tar.gz\n",
      "    print \"Got enzo_tiny_cosmology\"\n",
      "    !tar xvzf enzo_tiny_cosmology.tar\n",
      "    \n",
      "    !curl -sSO http://yt-project.org/data/Enzo_64.tar.gz\n",
      "    print \"Got Enzo_64\"\n",
      "    !tar xvzf Enzo_64.tar\n",
      "    \n",
      "    !curl -sSO http://yt-project.org/data/IsolatedGalaxy.tar.gz\n",
      "    print \"Got IsolatedGalaxy\"\n",
      "    !tar xvzf IsolatedGalaxy.tar\n",
      "    \n",
      "    print \"All done!\""
     ],
     "language": "python",
     "metadata": {},
     "outputs": [
      {
       "output_type": "stream",
       "stream": "stdout",
       "text": [
        "Got enzo_tiny_cosmology\n",
        "tar: enzo_tiny_cosmology.tar: Cannot open: No such file or directory\r\n",
        "tar: Error is not recoverable: exiting now\r\n",
        "tar: Child returned status 2\r\n",
        "tar: Error exit delayed from previous errors\r\n"
       ]
      },
      {
       "output_type": "stream",
       "stream": "stdout",
       "text": [
        "Got Enzo_64\n",
        "tar: Enzo_64.tar: Cannot open: No such file or directory\r\n",
        "tar: Error is not recoverable: exiting now\r\n",
        "tar: Child returned status 2\r\n",
        "tar: Error exit delayed from previous errors\r\n"
       ]
      },
      {
       "output_type": "stream",
       "stream": "stdout",
       "text": [
        "Got IsolatedGalaxy\n",
        "tar: IsolatedGalaxy.tar: Cannot open: No such file or directory\r\n",
        "tar: Error is not recoverable: exiting now\r\n",
        "tar: Child returned status 2\r\n",
        "tar: Error exit delayed from previous errors\r\n"
       ]
      },
      {
       "output_type": "stream",
       "stream": "stdout",
       "text": [
        "All done!\n"
       ]
      }
     ],
     "prompt_number": 3
    },
    {
     "cell_type": "code",
     "collapsed": false,
     "input": [],
     "language": "python",
     "metadata": {},
     "outputs": []
    }
   ],
   "metadata": {}
  }
 ]
}