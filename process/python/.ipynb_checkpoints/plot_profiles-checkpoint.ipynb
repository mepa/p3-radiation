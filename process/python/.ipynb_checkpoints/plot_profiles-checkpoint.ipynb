{
 "metadata": {
  "name": "",
  "signature": "sha256:d0116d12abbc3ef07c1d50e53ee95ea0848a839254c451fb3cbf95640ba3e321"
 },
 "nbformat": 3,
 "nbformat_minor": 0,
 "worksheets": [
  {
   "cells": [
    {
     "cell_type": "code",
     "collapsed": false,
     "input": [
      "%matplotlib inline\n",
      "import yt\n",
      "import numpy as np\n",
      "import matplotlib.pyplot as plt\n",
      "from yt import derived_field\n",
      "from yt.units import g, kpc"
     ],
     "language": "python",
     "metadata": {},
     "outputs": [],
     "prompt_number": 1
    },
    {
     "cell_type": "code",
     "collapsed": false,
     "input": [],
     "language": "python",
     "metadata": {},
     "outputs": []
    },
    {
     "cell_type": "code",
     "collapsed": false,
     "input": [
      "@derived_field(name = \"number density\", units = \"1/cm**3\")\n",
      "def _numdens(field, data):\n",
      "    mass_proton = 1.6726e-30 * g\n",
      "    return data[\"density\"] / mass_proton"
     ],
     "language": "python",
     "metadata": {},
     "outputs": [],
     "prompt_number": 2
    },
    {
     "cell_type": "code",
     "collapsed": false,
     "input": [
      "procdir = \"/scratch/cerberus/d4/mepa/process/python/plots/\"\n",
      "datadir = \"/scratch/cerberus/d4/mepa/data/RadCosmo_res128/stampede/\"\n",
      "infile = \"radCosmoLW_hdf5_chk_0381\""
     ],
     "language": "python",
     "metadata": {},
     "outputs": [],
     "prompt_number": 3
    },
    {
     "cell_type": "code",
     "collapsed": false,
     "input": [
      "ds = yt.load(datadir + infile)\n",
      "dd = ds.all_data()"
     ],
     "language": "python",
     "metadata": {},
     "outputs": [
      {
       "output_type": "stream",
       "stream": "stderr",
       "text": [
        "yt : [INFO     ] 2015-01-18 13:25:02,245 integer runtime parameter checkpointfilenumber overwrites a simulation scalar of the same name\n"
       ]
      },
      {
       "output_type": "stream",
       "stream": "stderr",
       "text": [
        "yt : [INFO     ] 2015-01-18 13:25:02,246 integer runtime parameter nbegin overwrites a simulation scalar of the same name\n"
       ]
      },
      {
       "output_type": "stream",
       "stream": "stderr",
       "text": [
        "yt : [INFO     ] 2015-01-18 13:25:02,246 integer runtime parameter plotfilenumber overwrites a simulation scalar of the same name\n"
       ]
      },
      {
       "output_type": "stream",
       "stream": "stderr",
       "text": [
        "yt : [INFO     ] 2015-01-18 13:25:02,302 Parameters: current_time              = 1.1008608331e+16\n"
       ]
      },
      {
       "output_type": "stream",
       "stream": "stderr",
       "text": [
        "yt : [INFO     ] 2015-01-18 13:25:02,303 Parameters: domain_dimensions         = [8 8 8]\n"
       ]
      },
      {
       "output_type": "stream",
       "stream": "stderr",
       "text": [
        "yt : [INFO     ] 2015-01-18 13:25:02,304 Parameters: domain_left_edge          = [ 0.  0.  0.]\n"
       ]
      },
      {
       "output_type": "stream",
       "stream": "stderr",
       "text": [
        "yt : [INFO     ] 2015-01-18 13:25:02,305 Parameters: domain_right_edge         = [  3.08567758e+24   3.08567758e+24   3.08567758e+24]\n"
       ]
      },
      {
       "output_type": "stream",
       "stream": "stderr",
       "text": [
        "yt : [INFO     ] 2015-01-18 13:25:02,306 Parameters: cosmological_simulation   = 1\n"
       ]
      },
      {
       "output_type": "stream",
       "stream": "stderr",
       "text": [
        "yt : [INFO     ] 2015-01-18 13:25:02,306 Parameters: current_redshift          = 12.7453729154\n"
       ]
      },
      {
       "output_type": "stream",
       "stream": "stderr",
       "text": [
        "yt : [INFO     ] 2015-01-18 13:25:02,306 Parameters: omega_lambda              = 0.728\n"
       ]
      },
      {
       "output_type": "stream",
       "stream": "stderr",
       "text": [
        "yt : [INFO     ] 2015-01-18 13:25:02,307 Parameters: omega_matter              = 0.272\n"
       ]
      },
      {
       "output_type": "stream",
       "stream": "stderr",
       "text": [
        "yt : [INFO     ] 2015-01-18 13:25:02,307 Parameters: hubble_constant           = 0.702963946675\n"
       ]
      }
     ],
     "prompt_number": 4
    },
    {
     "cell_type": "code",
     "collapsed": false,
     "input": [],
     "language": "python",
     "metadata": {},
     "outputs": [],
     "prompt_number": 4
    },
    {
     "cell_type": "code",
     "collapsed": false,
     "input": [
      "print ds.current_redshift\n",
      "print sorted(ds.field_list)"
     ],
     "language": "python",
     "metadata": {},
     "outputs": [
      {
       "output_type": "stream",
       "stream": "stderr",
       "text": [
        "yt : [WARNING  ] 2015-01-18 03:48:22,007 Field ('io', 'particle_mass') already exists. To override use force_override=True.\n"
       ]
      },
      {
       "output_type": "stream",
       "stream": "stderr",
       "text": [
        "yt : [WARNING  ] 2015-01-18 03:48:22,012 Field ('all', 'particle_mass') already exists. To override use force_override=True.\n"
       ]
      },
      {
       "output_type": "stream",
       "stream": "stderr",
       "text": [
        "yt : [INFO     ] 2015-01-18 03:48:22,206 Loading field plugins.\n"
       ]
      },
      {
       "output_type": "stream",
       "stream": "stderr",
       "text": [
        "yt : [INFO     ] 2015-01-18 03:48:22,208 Loaded angular_momentum (8 new fields)\n"
       ]
      },
      {
       "output_type": "stream",
       "stream": "stderr",
       "text": [
        "yt : [INFO     ] 2015-01-18 03:48:22,210 Loaded astro (15 new fields)\n"
       ]
      },
      {
       "output_type": "stream",
       "stream": "stderr",
       "text": [
        "yt : [INFO     ] 2015-01-18 03:48:22,211 Loaded cosmology (22 new fields)\n"
       ]
      },
      {
       "output_type": "stream",
       "stream": "stderr",
       "text": [
        "yt : [WARNING  ] 2015-01-18 03:48:22,212 Field ('gas', 'pressure') already exists. To override use force_override=True.\n"
       ]
      },
      {
       "output_type": "stream",
       "stream": "stderr",
       "text": [
        "yt : [WARNING  ] 2015-01-18 03:48:22,213 Field ('gas', 'number_density') already exists. To override use force_override=True.\n"
       ]
      },
      {
       "output_type": "stream",
       "stream": "stderr",
       "text": [
        "yt : [INFO     ] 2015-01-18 03:48:22,214 Loaded fluid (62 new fields)\n"
       ]
      },
      {
       "output_type": "stream",
       "stream": "stderr",
       "text": [
        "yt : [INFO     ] 2015-01-18 03:48:22,216 Loaded fluid_vector (94 new fields)\n"
       ]
      },
      {
       "output_type": "stream",
       "stream": "stderr",
       "text": [
        "yt : [INFO     ] 2015-01-18 03:48:22,218 Loaded geometric (110 new fields)\n"
       ]
      },
      {
       "output_type": "stream",
       "stream": "stderr",
       "text": [
        "yt : [INFO     ] 2015-01-18 03:48:22,219 Loaded local (111 new fields)\n"
       ]
      },
      {
       "output_type": "stream",
       "stream": "stderr",
       "text": [
        "yt : [INFO     ] 2015-01-18 03:48:22,223 Loaded magnetic_field (119 new fields)\n"
       ]
      },
      {
       "output_type": "stream",
       "stream": "stderr",
       "text": [
        "yt : [INFO     ] 2015-01-18 03:48:22,225 Loaded my_plugins (119 new fields)\n"
       ]
      },
      {
       "output_type": "stream",
       "stream": "stderr",
       "text": [
        "yt : [INFO     ] 2015-01-18 03:48:22,227 Loaded species (121 new fields)\n"
       ]
      },
      {
       "output_type": "stream",
       "stream": "stdout",
       "text": [
        "12.7453729154\n",
        "[('all', 'particle_accx'), ('all', 'particle_accy'), ('all', 'particle_accz'), ('all', 'particle_blk'), ('all', 'particle_gpot'), ('all', 'particle_grid_dens'), ('all', 'particle_mass'), ('all', 'particle_mass_save'), ('all', 'particle_oacx'), ('all', 'particle_oacy'), ('all', 'particle_oacz'), ('all', 'particle_posx'), ('all', 'particle_posy'), ('all', 'particle_posz'), ('all', 'particle_proc'), ('all', 'particle_smoothtag'), ('all', 'particle_tag'), ('all', 'particle_velx'), ('all', 'particle_vely'), ('all', 'particle_velz'), ('flash', 'aux '), ('flash', 'c011'), ('flash', 'c012'), ('flash', 'c013'), ('flash', 'c014'), ('flash', 'c015'), ('flash', 'c016'), ('flash', 'c041'), ('flash', 'c042'), ('flash', 'c043'), ('flash', 'c044'), ('flash', 'c045'), ('flash', 'c046'), ('flash', 'c071'), ('flash', 'c072'), ('flash', 'c073'), ('flash', 'c074'), ('flash', 'c075'), ('flash', 'c076'), ('flash', 'c081'), ('flash', 'c082'), ('flash', 'c083'), ('flash', 'c084'), ('flash', 'c085'), ('flash', 'c086'), ('flash', 'chem'), ('flash', 'dens'), ('flash', 'deut'), ('flash', 'dplu'), ('flash', 'eint'), ('flash', 'elec'), ('flash', 'ener'), ('flash', 'flh2'), ('flash', 'flx1'), ('flash', 'flx2'), ('flash', 'flx3'), ('flash', 'gamc'), ('flash', 'game'), ('flash', 'gpol'), ('flash', 'gpot'), ('flash', 'grac'), ('flash', 'h   '), ('flash', 'h2io'), ('flash', 'hd  '), ('flash', 'heat'), ('flash', 'heio'), ('flash', 'hel '), ('flash', 'hep '), ('flash', 'hepi'), ('flash', 'hepp'), ('flash', 'hion'), ('flash', 'hmin'), ('flash', 'hplu'), ('flash', 'htwo'), ('flash', 'htwp'), ('flash', 'icor'), ('flash', 'imgm'), ('flash', 'imgp'), ('flash', 'isls'), ('flash', 'pde '), ('flash', 'pden'), ('flash', 'pres'), ('flash', 'sim1'), ('flash', 'temp'), ('flash', 'velx'), ('flash', 'vely'), ('flash', 'velz'), ('io', 'particle_accx'), ('io', 'particle_accy'), ('io', 'particle_accz'), ('io', 'particle_blk'), ('io', 'particle_gpot'), ('io', 'particle_grid_dens'), ('io', 'particle_mass'), ('io', 'particle_mass_save'), ('io', 'particle_oacx'), ('io', 'particle_oacy'), ('io', 'particle_oacz'), ('io', 'particle_posx'), ('io', 'particle_posy'), ('io', 'particle_posz'), ('io', 'particle_proc'), ('io', 'particle_smoothtag'), ('io', 'particle_tag'), ('io', 'particle_velx'), ('io', 'particle_vely'), ('io', 'particle_velz')]"
       ]
      },
      {
       "output_type": "stream",
       "stream": "stdout",
       "text": [
        "\n"
       ]
      }
     ],
     "prompt_number": 5
    },
    {
     "cell_type": "code",
     "collapsed": false,
     "input": [
      "sp = ds.sphere(\"c\", (100.0, \"kpc\"))"
     ],
     "language": "python",
     "metadata": {},
     "outputs": [
      {
       "output_type": "stream",
       "stream": "stderr",
       "text": [
        "yt : [WARNING  ] 2015-01-18 13:25:27,496 Field ('io', 'particle_mass') already exists. To override use force_override=True.\n"
       ]
      },
      {
       "output_type": "stream",
       "stream": "stderr",
       "text": [
        "yt : [WARNING  ] 2015-01-18 13:25:27,501 Field ('all', 'particle_mass') already exists. To override use force_override=True.\n"
       ]
      },
      {
       "output_type": "stream",
       "stream": "stderr",
       "text": [
        "yt : [INFO     ] 2015-01-18 13:25:27,693 Loading field plugins.\n"
       ]
      },
      {
       "output_type": "stream",
       "stream": "stderr",
       "text": [
        "yt : [INFO     ] 2015-01-18 13:25:27,698 Loaded angular_momentum (8 new fields)\n"
       ]
      },
      {
       "output_type": "stream",
       "stream": "stderr",
       "text": [
        "yt : [INFO     ] 2015-01-18 13:25:27,700 Loaded astro (15 new fields)\n"
       ]
      },
      {
       "output_type": "stream",
       "stream": "stderr",
       "text": [
        "yt : [INFO     ] 2015-01-18 13:25:27,701 Loaded cosmology (22 new fields)\n"
       ]
      },
      {
       "output_type": "stream",
       "stream": "stderr",
       "text": [
        "yt : [WARNING  ] 2015-01-18 13:25:27,701 Field ('gas', 'pressure') already exists. To override use force_override=True.\n"
       ]
      },
      {
       "output_type": "stream",
       "stream": "stderr",
       "text": [
        "yt : [WARNING  ] 2015-01-18 13:25:27,702 Field ('gas', 'number_density') already exists. To override use force_override=True.\n"
       ]
      },
      {
       "output_type": "stream",
       "stream": "stderr",
       "text": [
        "yt : [INFO     ] 2015-01-18 13:25:27,704 Loaded fluid (62 new fields)\n"
       ]
      },
      {
       "output_type": "stream",
       "stream": "stderr",
       "text": [
        "yt : [INFO     ] 2015-01-18 13:25:27,706 Loaded fluid_vector (94 new fields)\n"
       ]
      },
      {
       "output_type": "stream",
       "stream": "stderr",
       "text": [
        "yt : [INFO     ] 2015-01-18 13:25:27,708 Loaded geometric (110 new fields)\n"
       ]
      },
      {
       "output_type": "stream",
       "stream": "stderr",
       "text": [
        "yt : [INFO     ] 2015-01-18 13:25:27,710 Loaded local (111 new fields)\n"
       ]
      },
      {
       "output_type": "stream",
       "stream": "stderr",
       "text": [
        "yt : [INFO     ] 2015-01-18 13:25:27,718 Loaded magnetic_field (119 new fields)\n"
       ]
      },
      {
       "output_type": "stream",
       "stream": "stderr",
       "text": [
        "yt : [INFO     ] 2015-01-18 13:25:27,720 Loaded my_plugins (119 new fields)\n"
       ]
      },
      {
       "output_type": "stream",
       "stream": "stderr",
       "text": [
        "yt : [INFO     ] 2015-01-18 13:25:27,722 Loaded species (121 new fields)\n"
       ]
      }
     ],
     "prompt_number": 5
    },
    {
     "cell_type": "code",
     "collapsed": false,
     "input": [
      "rmin = 1.0\n",
      "rmax = 100.0\n",
      "prof1 = yt.create_profile(sp, 'radius', ('flash', 'h   '),\n",
      "                          units = {'radius': 'kpc'},\n",
      "                          extrema = {'radius': ((rmin,'kpc'),(rmax,'kpc'))})\n",
      "prof2 = yt.create_profile(sp, 'radius', ('flash', 'hel '),\n",
      "                          units = {'radius': 'kpc'},\n",
      "                          extrema = {'radius': ((rmin,'kpc'),(rmax,'kpc'))})\n",
      "prof3 = yt.create_profile(sp, 'radius', ('flash', 'hplu'),\n",
      "                          units = {'radius': 'kpc'},\n",
      "                          extrema = {'radius': ((rmin,'kpc'),(rmax,'kpc'))})\n",
      "prof4 = yt.create_profile(sp, 'radius', ('flash', 'hep '),\n",
      "                          units = {'radius': 'kpc'},\n",
      "                          extrema = {'radius': ((rmin,'kpc'),(rmax,'kpc'))})                                                              \n",
      "prof5 = yt.create_profile(sp, 'radius', ('flash', 'hepp'),\n",
      "                          units = {'radius': 'kpc'},\n",
      "                          extrema = {'radius': ((rmin,'kpc'),(rmax,'kpc'))})                                                             \n",
      "                                                                \n"
     ],
     "language": "python",
     "metadata": {},
     "outputs": [],
     "prompt_number": 20
    },
    {
     "cell_type": "code",
     "collapsed": false,
     "input": [
      "radius = prof1.x\n",
      "h = prof1['flash','h   '].value\n",
      "hel = prof2['flash','hel '].value\n",
      "hplu = prof3['flash','hplu'].value\n",
      "hep = prof4['flash','hep '].value\n",
      "hepp = prof5['flash','hepp'].value"
     ],
     "language": "python",
     "metadata": {},
     "outputs": [],
     "prompt_number": 21
    },
    {
     "cell_type": "code",
     "collapsed": false,
     "input": [
      "plt.loglog(radius, h, label=\"H\")\n",
      "plt.loglog(radius, hel, label=\"He\")\n",
      "plt.loglog(radius, hplu, label=\"H$^+$\")\n",
      "plt.loglog(radius, hep, label=\"He$^+$\")\n",
      "plt.loglog(radius, hepp, label=\"He$^{++}$\")\n",
      "plt.xlabel(\"Radius (kpc)\")\n",
      "plt.ylabel(\"Mass Fractions\")\n",
      "plt.legend()\n",
      "plt.savefig(procdir + infile + '_1d-profile' + '_radius' + '_abundance' + '_ioniz.png')"
     ],
     "language": "python",
     "metadata": {},
     "outputs": [
      {
       "metadata": {},
       "output_type": "display_data",
       "png": "[encoded data removed]",
       "text": [
        "<matplotlib.figure.Figure at 0x2aaac675f450>"
       ]
      }
     ],
     "prompt_number": 22
    },
    {
     "cell_type": "code",
     "collapsed": false,
     "input": [],
     "language": "python",
     "metadata": {},
     "outputs": []
    }
   ],
   "metadata": {}
  }
 ]
}